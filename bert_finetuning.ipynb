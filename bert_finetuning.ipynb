{
 "cells": [
  {
   "cell_type": "code",
   "execution_count": 2,
   "id": "48bf07e8",
   "metadata": {},
   "outputs": [
    {
     "name": "stdout",
     "output_type": "stream",
     "text": [
      "(500, 3)\n",
      "     User                                               Post       Label\n",
      "0  user-0  ['Its not a viable option, and youll be leavin...  Supportive\n",
      "1  user-1  ['It can be hard to appreciate the notion that...    Ideation\n",
      "2  user-2  ['Hi, so last night i was sitting on the ledge...    Behavior\n",
      "3  user-3  ['I tried to kill my self once and failed badl...     Attempt\n",
      "4  user-4  ['Hi NEM3030. What sorts of things do you enjo...    Ideation\n"
     ]
    }
   ],
   "source": [
    "import pandas as pd\n",
    "\n",
    "# Load the dataset from the specified path\n",
    "dataset = pd.read_csv('./dataset/500_Reddit_users_posts_labels.csv')\n",
    "\n",
    "print(dataset.shape)  # Print the shape of the dataset\n",
    "print(dataset.head())  # Print the first few rows of the dataset"
   ]
  },
  {
   "cell_type": "code",
   "execution_count": 3,
   "id": "4116e2a3",
   "metadata": {},
   "outputs": [
    {
     "name": "stdout",
     "output_type": "stream",
     "text": [
      "                                                Post       Label\n",
      "0  ['Its not a viable option, and youll be leavin...  Supportive\n",
      "1  ['It can be hard to appreciate the notion that...    Ideation\n",
      "2  ['Hi, so last night i was sitting on the ledge...    Behavior\n",
      "3  ['I tried to kill my self once and failed badl...     Attempt\n",
      "4  ['Hi NEM3030. What sorts of things do you enjo...    Ideation\n",
      "                                                Post       Label\n",
      "0  Its not a viable option, and youll be leaving ...  Supportive\n",
      "1  It can be hard to appreciate the notion that y...    Ideation\n",
      "2  Hi, so last night i was sitting on the ledge o...    Behavior\n",
      "3  I tried to kill my self once and failed badly ...     Attempt\n",
      "4  Hi NEM3030. What sorts of things do you enjoy ...    Ideation\n",
      "                                                Post  Label\n",
      "0  Its not a viable option, and youll be leaving ...      0\n",
      "1  It can be hard to appreciate the notion that y...      2\n",
      "2  Hi, so last night i was sitting on the ledge o...      3\n",
      "3  I tried to kill my self once and failed badly ...      4\n",
      "4  Hi NEM3030. What sorts of things do you enjoy ...      2\n",
      "                                                Post  Label\n",
      "0  its not a viable option and youll be leaving y...      0\n",
      "1  it can be hard to appreciate the notion that y...      2\n",
      "2  hi so last night i was sitting on the ledge of...      3\n",
      "3  i tried to kill my self once and failed badly ...      4\n",
      "4  hi nem3030 what sorts of things do you enjoy d...      2\n"
     ]
    }
   ],
   "source": [
    "# preprocess the dataset \n",
    "# from sklearn.preprocessing import LabelEncoder, OneHotEncoder\n",
    "import re\n",
    "\n",
    "# 1. Drop the 'User' column\n",
    "dataset = dataset.drop(columns=['User'])\n",
    "print(dataset.head())\n",
    "\n",
    "# 2. delect [''] in Post column\n",
    "dataset['Post'] = dataset['Post'].str.strip(\"['']\")\n",
    "print(dataset.head())\n",
    "\n",
    "# 3. Encode the 'Label' column\n",
    "# Supportive = 0, Indicator = 1, Ideation = 2, Behavior = 3, Attempt = 4\n",
    "label_mapping = {\n",
    "    'Supportive': 0,\n",
    "    'Indicator': 1,\n",
    "    'Ideation': 2,\n",
    "    'Behavior': 3,\n",
    "    'Attempt': 4\n",
    "}\n",
    "dataset['Label'] = dataset['Label'].map(label_mapping)\n",
    "print(dataset.head())\n",
    "\n",
    "# 4. Remove punctuation and special characters from the 'Post' column and switch to lowercase\n",
    "dataset['Post'] = dataset['Post'].apply(lambda x: re.sub(r'[^\\w\\s]', '', x))\n",
    "dataset['Post'] = dataset['Post'].str.lower()\n",
    "print(dataset.head())"
   ]
  },
  {
   "cell_type": "code",
   "execution_count": 5,
   "id": "17f52aca",
   "metadata": {},
   "outputs": [
    {
     "name": "stderr",
     "output_type": "stream",
     "text": [
      "d:\\dsaa2012\\lib\\site-packages\\tqdm\\auto.py:21: TqdmWarning: IProgress not found. Please update jupyter and ipywidgets. See https://ipywidgets.readthedocs.io/en/stable/user_install.html\n",
      "  from .autonotebook import tqdm as notebook_tqdm\n",
      "d:\\dsaa2012\\lib\\site-packages\\transformers\\utils\\hub.py:128: FutureWarning: Using `TRANSFORMERS_CACHE` is deprecated and will be removed in v5 of Transformers. Use `HF_HOME` instead.\n",
      "  warnings.warn(\n",
      "Some weights of BertForSequenceClassification were not initialized from the model checkpoint at bert-base-uncased and are newly initialized: ['classifier.bias', 'classifier.weight']\n",
      "You should probably TRAIN this model on a down-stream task to be able to use it for predictions and inference.\n"
     ]
    }
   ],
   "source": [
    "# Load the pretrained BERT model and tokenizer\n",
    "from transformers import BertTokenizer, BertForSequenceClassification\n",
    "\n",
    "tokenizer = BertTokenizer.from_pretrained('bert-base-uncased')\n",
    "model = BertForSequenceClassification.from_pretrained('bert-base-uncased', num_labels=5)"
   ]
  },
  {
   "cell_type": "code",
   "execution_count": 8,
   "id": "e3062393",
   "metadata": {},
   "outputs": [
    {
     "name": "stdout",
     "output_type": "stream",
     "text": [
      "{'input_ids': tensor([  101,  5791,  2025,  3733,  1045,  2444,  1999,  1996,  4643,  2149,\n",
      "         2004,  2005, 12163,  2490,  2004,  5976,  2004,  2009,  2089,  4025,\n",
      "         1045,  2428,  2123,  2102,  2215,  2008,  1045,  2215,  2000,  7796,\n",
      "         2026,  2769,  1045,  2215,  2000,  2113,  2008,  2026,  2769,  2003,\n",
      "         2445,  2000,  2033,  2138,  1045,  2106,  2242,  2025,  3432,  2138,\n",
      "        10047,  2091,  2006,  2026,  6735,  2004,  1045,  2056,  4921,  2063,\n",
      "         2042, 11573,  1998,  1045,  2064,  2102,  2425,  2017,  2129,  2172,\n",
      "         2009,  7807,  2026,  2540,  2000,  2156,  2619,  2008,  2015,  5525,\n",
      "         8084,  2507,  2033,  2769,  2005,  1037,  7954,  2009,  2074,  5683,\n",
      "         3308,  2025,  2008,  1045,  2123,  2102,  9120,  2009,  2021,  1045,\n",
      "         2514,  2008,  2009,  3475,  2102,  2157,  2635,  2769,  2013,  2178,\n",
      "         3969,  2040,  3791,  2009, 13367,  1045,  5247,  2026,  6385,  1999,\n",
      "        15967, 12039,  2004,  2026,  2814,  4025,  2000,   102]), 'attention_mask': tensor([1, 1, 1, 1, 1, 1, 1, 1, 1, 1, 1, 1, 1, 1, 1, 1, 1, 1, 1, 1, 1, 1, 1, 1,\n",
      "        1, 1, 1, 1, 1, 1, 1, 1, 1, 1, 1, 1, 1, 1, 1, 1, 1, 1, 1, 1, 1, 1, 1, 1,\n",
      "        1, 1, 1, 1, 1, 1, 1, 1, 1, 1, 1, 1, 1, 1, 1, 1, 1, 1, 1, 1, 1, 1, 1, 1,\n",
      "        1, 1, 1, 1, 1, 1, 1, 1, 1, 1, 1, 1, 1, 1, 1, 1, 1, 1, 1, 1, 1, 1, 1, 1,\n",
      "        1, 1, 1, 1, 1, 1, 1, 1, 1, 1, 1, 1, 1, 1, 1, 1, 1, 1, 1, 1, 1, 1, 1, 1,\n",
      "        1, 1, 1, 1, 1, 1, 1, 1]), 'labels': tensor(4)}\n",
      "Sample size: 128 tokens\n"
     ]
    }
   ],
   "source": [
    "# Tokenize the text data and prepare it for training\n",
    "import torch\n",
    "from torch.utils.data import DataLoader, Dataset\n",
    "from sklearn.metrics import accuracy_score, classification_report\n",
    "\n",
    "device = torch.device('cuda' if torch.cuda.is_available() else 'cpu')\n",
    "model.to(device)\n",
    "\n",
    "class CustomDataset(Dataset):\n",
    "    def __init__(self, data, tokenizer):\n",
    "        self.data = data\n",
    "        self.tokenizer = tokenizer\n",
    "\n",
    "    def __len__(self):\n",
    "        return len(self.data)\n",
    "    \n",
    "    def __getitem__(self, idx):\n",
    "        text = self.data.iloc[idx]['Post']\n",
    "        label = self.data.iloc[idx]['Label']\n",
    "\n",
    "        # use the tokenizer to encode the text\n",
    "        encoding = self.tokenizer(\n",
    "            text, \n",
    "            truncation=True, # 输入超过128个token会被自动截断\n",
    "            padding='max_length', \n",
    "            max_length=128, \n",
    "            return_tensors='pt')\n",
    "        return {\n",
    "            'input_ids': encoding['input_ids'].squeeze(), # 每个样本的input_ids（每个词在词汇表中的索引）\n",
    "            'attention_mask': encoding['attention_mask'].squeeze(), # 每个样本的attention_mask（指示哪些token是padding）\n",
    "            'labels': torch.tensor(label, dtype=torch.long) # 每个样本的标签\n",
    "        }\n",
    "    \n",
    "train_dataset = CustomDataset(train_data, tokenizer)\n",
    "val_dataset = CustomDataset(val_data, tokenizer)\n",
    "test_dataset = CustomDataset(test_data, tokenizer)\n",
    "\n",
    "train_loader = DataLoader(train_dataset, batch_size=16, shuffle=True)\n",
    "val_loader = DataLoader(val_dataset, batch_size=16)\n",
    "test_loader = DataLoader(test_dataset, batch_size=16)\n",
    "\n",
    "# Define the optimizer and loss function\n",
    "optimizer = torch.optim.AdamW(model.parameters(), lr=2e-5)\n",
    "criterion = torch.nn.CrossEntropyLoss()\n",
    "\n",
    "print(train_dataset[0])  # Print the first sample from the training dataset\n",
    "# print the size of a sample in the training dataset\n",
    "print(f\"Sample size: {len(train_dataset[0]['input_ids'])} tokens\")\n"
   ]
  },
  {
   "cell_type": "code",
   "execution_count": null,
   "id": "9c746dd5",
   "metadata": {},
   "outputs": [
    {
     "name": "stdout",
     "output_type": "stream",
     "text": [
      "Test Accuracy: 0.34\n",
      "Test Classification Report:\n",
      "              precision    recall  f1-score   support\n",
      "\n",
      "  Supportive       0.41      0.64      0.50        11\n",
      "   Indicator       0.00      0.00      0.00        10\n",
      "    Ideation       0.56      0.29      0.38        17\n",
      "    Behavior       0.21      0.62      0.31         8\n",
      "     Attempt       0.00      0.00      0.00         4\n",
      "\n",
      "    accuracy                           0.34        50\n",
      "   macro avg       0.24      0.31      0.24        50\n",
      "weighted avg       0.31      0.34      0.29        50\n",
      "\n"
     ]
    },
    {
     "name": "stderr",
     "output_type": "stream",
     "text": [
      "d:\\dsaa2012\\lib\\site-packages\\sklearn\\metrics\\_classification.py:1565: UndefinedMetricWarning: Precision is ill-defined and being set to 0.0 in labels with no predicted samples. Use `zero_division` parameter to control this behavior.\n",
      "  _warn_prf(average, modifier, f\"{metric.capitalize()} is\", len(result))\n",
      "d:\\dsaa2012\\lib\\site-packages\\sklearn\\metrics\\_classification.py:1565: UndefinedMetricWarning: Precision is ill-defined and being set to 0.0 in labels with no predicted samples. Use `zero_division` parameter to control this behavior.\n",
      "  _warn_prf(average, modifier, f\"{metric.capitalize()} is\", len(result))\n",
      "d:\\dsaa2012\\lib\\site-packages\\sklearn\\metrics\\_classification.py:1565: UndefinedMetricWarning: Precision is ill-defined and being set to 0.0 in labels with no predicted samples. Use `zero_division` parameter to control this behavior.\n",
      "  _warn_prf(average, modifier, f\"{metric.capitalize()} is\", len(result))\n"
     ]
    }
   ],
   "source": [
    "# test the model on the test set and print the accuracy and classification report\n",
    "def test(model, test_loader, device):\n",
    "    model.eval()\n",
    "    all_preds = []\n",
    "    all_labels = []\n",
    "    with torch.no_grad():\n",
    "        for batch in test_loader:\n",
    "            input_ids = batch['input_ids'].to(device)\n",
    "            attention_mask = batch['attention_mask'].to(device)\n",
    "            labels = batch['labels'].to(device)\n",
    "\n",
    "            outputs = model(input_ids=input_ids, attention_mask=attention_mask)\n",
    "            logits = outputs.logits\n",
    "            preds = torch.argmax(logits, dim=1)\n",
    "\n",
    "            all_preds.extend(preds.cpu().numpy())\n",
    "            all_labels.extend(labels.cpu().numpy())\n",
    "    \n",
    "    accuracy = accuracy_score(all_labels, all_preds)\n",
    "    report = classification_report(all_labels, all_preds, target_names=['Supportive', 'Indicator', 'Ideation', 'Behavior', 'Attempt'])\n",
    "    return accuracy, report\n",
    "\n",
    "test_accuracy, test_report = test(model, test_loader, device)\n",
    "print('Test Accuracy:', test_accuracy)\n",
    "print('Test Classification Report:')\n",
    "print(test_report)"
   ]
  },
  {
   "cell_type": "code",
   "execution_count": 12,
   "id": "ed2f8729",
   "metadata": {},
   "outputs": [
    {
     "data": {
      "text/plain": [
       "('./saved_model0\\\\tokenizer_config.json',\n",
       " './saved_model0\\\\special_tokens_map.json',\n",
       " './saved_model0\\\\vocab.txt',\n",
       " './saved_model0\\\\added_tokens.json')"
      ]
     },
     "execution_count": 12,
     "metadata": {},
     "output_type": "execute_result"
    }
   ],
   "source": [
    "# Save the trained model\n",
    "import os\n",
    "os.makedirs('./saved_model0', exist_ok=True)  # Create directory if it doesn't exist\n",
    "model_save_path = './saved_model0'\n",
    "\n",
    "\n",
    "model.save_pretrained(model_save_path)\n",
    "tokenizer.save_pretrained(model_save_path)"
   ]
  },
  {
   "cell_type": "code",
   "execution_count": 13,
   "id": "dbb41431",
   "metadata": {},
   "outputs": [
    {
     "name": "stdout",
     "output_type": "stream",
     "text": [
      "Test results saved to ./test_results.json\n"
     ]
    }
   ],
   "source": [
    "import json\n",
    "\n",
    "# Save test accuracy and classification report to a JSON file\n",
    "test_results = {\n",
    "    'accuracy': test_accuracy,\n",
    "    'classification_report': test_report\n",
    "}\n",
    "\n",
    "results_save_path = './test_results.json'\n",
    "with open(results_save_path, 'w') as f:\n",
    "    json.dump(test_results, f, indent=4)\n",
    "\n",
    "print(f'Test results saved to {results_save_path}')"
   ]
  }
 ],
 "metadata": {
  "kernelspec": {
   "display_name": "Python 3",
   "language": "python",
   "name": "python3"
  },
  "language_info": {
   "codemirror_mode": {
    "name": "ipython",
    "version": 3
   },
   "file_extension": ".py",
   "mimetype": "text/x-python",
   "name": "python",
   "nbconvert_exporter": "python",
   "pygments_lexer": "ipython3",
   "version": "3.9.23"
  }
 },
 "nbformat": 4,
 "nbformat_minor": 5
}
